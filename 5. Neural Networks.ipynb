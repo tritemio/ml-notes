{
 "cells": [
  {
   "cell_type": "markdown",
   "metadata": {},
   "source": [
    "# Neural network\n",
    "\n",
    "- **Layer 1**: First input layer takes the features $x_0, x_1, ..., x_n$, formally $g^{(1)}(x) = x$\n",
    "- **Layer 2**: Hidden layer:\n",
    "    - **Input vector** is the output from previous layer $a^{(1)}$ (in this case $a^{(1)} = x$)\n",
    "    - **Output vector** is $a^{(2)} = g(\\Theta^{(1)} a^{(1)})$\n",
    "        - $\\Theta^{(1)}$ is matrix: rows are # units in next layer, columns are # units in previous layer\n",
    "- **Layer 3**: Output layer is (assuming only 1 hidden layer):\n",
    "\n",
    "$$h_\\Theta(x) = g(\\Theta^{(2)} a^{(2)})$$\n",
    "\n",
    "Since we have 1 output, $\\Theta^{(2)}$ is a vector and not a matrix. The output layer\n",
    "performs logistic regression on features $a^{(2)}$. \n",
    "But $a^{(2)}$ are **learned features** as well. \n",
    "$a^{(2)}$ are non-linear functions of the inputs through **learned parameters** $\\Theta^{(1)}$"
   ]
  },
  {
   "cell_type": "markdown",
   "metadata": {},
   "source": [
    "## Bias\n",
    "\n",
    "- $x_0$ = 0\n",
    "- Each hidden layer $j$ has an $a_0{(j)}$ unit, whose value is 1.\n",
    "\n",
    "## Feed-forward"
   ]
  },
  {
   "cell_type": "markdown",
   "metadata": {},
   "source": [
    "# Load data"
   ]
  },
  {
   "cell_type": "code",
   "execution_count": 1,
   "metadata": {},
   "outputs": [],
   "source": [
    "import numpy as np\n",
    "import seaborn as sns\n",
    "import pandas as pd\n",
    "import matplotlib.pyplot as plt\n",
    "%matplotlib inline\n",
    "from scipy.io import loadmat"
   ]
  },
  {
   "cell_type": "code",
   "execution_count": 2,
   "metadata": {},
   "outputs": [],
   "source": [
    "data = loadmat('machine-learning-ex4/ex4/ex4data1.mat')\n",
    "X0 = data['X']\n",
    "X = np.hstack([np.ones((X0.shape[0], 1)), X0])\n",
    "y = data['y'][:, 0]"
   ]
  },
  {
   "cell_type": "code",
   "execution_count": 3,
   "metadata": {},
   "outputs": [
    {
     "data": {
      "text/plain": [
       "((5000, 401), dtype('float64'))"
      ]
     },
     "execution_count": 3,
     "metadata": {},
     "output_type": "execute_result"
    }
   ],
   "source": [
    "X.shape, X.dtype"
   ]
  },
  {
   "cell_type": "code",
   "execution_count": 4,
   "metadata": {},
   "outputs": [
    {
     "data": {
      "text/plain": [
       "((5000,), dtype('uint8'))"
      ]
     },
     "execution_count": 4,
     "metadata": {},
     "output_type": "execute_result"
    }
   ],
   "source": [
    "y.shape, y.dtype"
   ]
  },
  {
   "cell_type": "code",
   "execution_count": 5,
   "metadata": {},
   "outputs": [],
   "source": [
    "data = loadmat('machine-learning-ex4/ex4/ex4weights.mat')\n",
    "Theta1 = data['Theta1']\n",
    "Theta2 = data['Theta2']"
   ]
  },
  {
   "cell_type": "code",
   "execution_count": 6,
   "metadata": {},
   "outputs": [
    {
     "data": {
      "text/plain": [
       "((25, 401), dtype('<f8'))"
      ]
     },
     "execution_count": 6,
     "metadata": {},
     "output_type": "execute_result"
    }
   ],
   "source": [
    "Theta1.shape, Theta1.dtype"
   ]
  },
  {
   "cell_type": "code",
   "execution_count": 7,
   "metadata": {},
   "outputs": [
    {
     "data": {
      "text/plain": [
       "array([-0.02256239, -0.09838113,  0.11615605])"
      ]
     },
     "execution_count": 7,
     "metadata": {},
     "output_type": "execute_result"
    }
   ],
   "source": [
    "Theta1[:3, 0]"
   ]
  },
  {
   "cell_type": "code",
   "execution_count": 8,
   "metadata": {},
   "outputs": [
    {
     "data": {
      "text/plain": [
       "array([-0.76100352, -0.61785176, -0.68934072])"
      ]
     },
     "execution_count": 8,
     "metadata": {},
     "output_type": "execute_result"
    }
   ],
   "source": [
    "Theta2[:3, 0]"
   ]
  },
  {
   "cell_type": "code",
   "execution_count": 9,
   "metadata": {},
   "outputs": [
    {
     "data": {
      "text/plain": [
       "((10, 26), dtype('<f8'))"
      ]
     },
     "execution_count": 9,
     "metadata": {},
     "output_type": "execute_result"
    }
   ],
   "source": [
    "Theta2.shape, Theta2.dtype"
   ]
  },
  {
   "cell_type": "code",
   "execution_count": 10,
   "metadata": {},
   "outputs": [
    {
     "data": {
      "text/plain": [
       "(array([], dtype=int64), array([], dtype=int64))"
      ]
     },
     "execution_count": 10,
     "metadata": {},
     "output_type": "execute_result"
    }
   ],
   "source": [
    "np.where(Theta1 == -1.9010)"
   ]
  },
  {
   "cell_type": "markdown",
   "metadata": {},
   "source": [
    "# Define Neural Network"
   ]
  },
  {
   "cell_type": "markdown",
   "metadata": {},
   "source": [
    "- **Layer 1 (input)**: Images 20 x 20 = 400 pixels, floating points gray level, +1 bias, 401 total features.\n",
    "- **Layer 2 (hidden)**: 25 units + bias, 26 total\n",
    "- **Layer 3 (output)**: 10 output units, one per digit"
   ]
  },
  {
   "cell_type": "code",
   "execution_count": 11,
   "metadata": {},
   "outputs": [],
   "source": [
    "n_samples = X.shape[0]\n",
    "n_input_features = X.shape[1] - 1\n",
    "n_units_hidden_layer = Theta1.shape[0]\n",
    "n_units_output_layer = Theta2.shape[0]\n",
    "\n",
    "assert Theta1.shape[1] == n_input_features + 1\n",
    "assert Theta2.shape[1] == n_units_hidden_layer + 1\n",
    "assert np.unique(y).size == n_units_output_layer"
   ]
  },
  {
   "cell_type": "code",
   "execution_count": 12,
   "metadata": {},
   "outputs": [],
   "source": [
    "Θ1_shape = n_units_hidden_layer, n_input_features + 1\n",
    "Θ2_shape = n_units_output_layer, n_units_hidden_layer + 1"
   ]
  },
  {
   "cell_type": "code",
   "execution_count": 13,
   "metadata": {},
   "outputs": [],
   "source": [
    "θ = np.hstack([Theta1.ravel(), Theta2.ravel()])\n",
    "Θ1 = θ[:Θ1_shape[0]*Θ1_shape[1]].reshape(Θ1_shape) \n",
    "Θ2 = θ[Θ1_shape[0]*Θ1_shape[1]:].reshape(Θ2_shape) "
   ]
  },
  {
   "cell_type": "code",
   "execution_count": 14,
   "metadata": {},
   "outputs": [],
   "source": [
    "def sigmoid(z):\n",
    "    return 1 / (1 + np.exp(-z))"
   ]
  },
  {
   "cell_type": "code",
   "execution_count": 15,
   "metadata": {},
   "outputs": [],
   "source": [
    "# Convert output to one-hot encoding\n",
    "y1 = np.zeros((y.size, n_units_output_layer))\n",
    "for i in range(n_units_output_layer):\n",
    "    y1[:, i] = y == i + 1"
   ]
  },
  {
   "cell_type": "code",
   "execution_count": 16,
   "metadata": {},
   "outputs": [],
   "source": [
    "assert (y1.sum(0) == 500).all()"
   ]
  },
  {
   "cell_type": "markdown",
   "metadata": {},
   "source": [
    "## Prediction\n",
    "\n",
    "Prediction by feed-forward:"
   ]
  },
  {
   "cell_type": "code",
   "execution_count": 17,
   "metadata": {},
   "outputs": [],
   "source": [
    "a1 = X\n",
    "a2 = sigmoid(a1 @ Theta1.T)\n",
    "a2 = np.hstack([np.ones((a2.shape[0], 1)), a2])\n",
    "a3 = sigmoid(a2 @ Theta2.T)\n",
    "hθ = a3"
   ]
  },
  {
   "cell_type": "code",
   "execution_count": 18,
   "metadata": {},
   "outputs": [],
   "source": [
    "assert (a1[:, 0] == 1).all()\n",
    "assert (a2[:, 0] == 1).all()"
   ]
  },
  {
   "cell_type": "code",
   "execution_count": 19,
   "metadata": {},
   "outputs": [
    {
     "data": {
      "text/plain": [
       "((5000, 401), (5000, 26), (5000, 10), (5000, 10))"
      ]
     },
     "execution_count": 19,
     "metadata": {},
     "output_type": "execute_result"
    }
   ],
   "source": [
    "a1.shape, a2.shape, a3.shape, y1.shape"
   ]
  },
  {
   "cell_type": "code",
   "execution_count": 20,
   "metadata": {},
   "outputs": [
    {
     "data": {
      "text/plain": [
       "0.2876291651613189"
      ]
     },
     "execution_count": 20,
     "metadata": {},
     "output_type": "execute_result"
    }
   ],
   "source": [
    "λ = 0\n",
    "m = len(y)\n",
    "hθ = a3\n",
    "theta_norm2 = (Theta1[:,1:]**2).sum() + (Theta2[:,1:]**2).sum()\n",
    "J = (-1/m) * np.sum(y1 * np.log(hθ) + (1-y1) * np.log(1-hθ)) + (λ/(2*m)) * theta_norm2\n",
    "J  # result 0.2876 with λ = 0"
   ]
  },
  {
   "cell_type": "code",
   "execution_count": 21,
   "metadata": {},
   "outputs": [
    {
     "data": {
      "text/plain": [
       "0.38376985909092365"
      ]
     },
     "execution_count": 21,
     "metadata": {},
     "output_type": "execute_result"
    }
   ],
   "source": [
    "λ = 1\n",
    "m = len(y)\n",
    "hθ = a3\n",
    "theta_norm2 = (Theta1[:,1:]**2).sum() + (Theta2[:,1:]**2).sum()\n",
    "J = (-1/m) * np.sum(y1 * np.log(hθ) + (1-y1) * np.log(1-hθ)) + (λ/(2*m)) * theta_norm2\n",
    "J  # result 0.3838 with λ = 1"
   ]
  },
  {
   "cell_type": "code",
   "execution_count": 22,
   "metadata": {},
   "outputs": [],
   "source": [
    "# Compute \"error\" δ\n",
    "δ3 = a3 - y1\n",
    "gprime2 = a2 * (1 - a2)\n",
    "δ2 = (δ3 @ Theta2) * gprime2"
   ]
  },
  {
   "cell_type": "code",
   "execution_count": 23,
   "metadata": {},
   "outputs": [],
   "source": [
    "Δ1 = np.zeros_like(Theta1)\n",
    "Δ2 = np.zeros_like(Theta2)\n",
    "\n",
    "for i in range(X.shape[0]):\n",
    "    Δ2 += np.outer(δ3[i], a2[i])\n",
    "    Δ1 += np.outer(δ2[i], a1[i])[1:]"
   ]
  },
  {
   "cell_type": "code",
   "execution_count": 24,
   "metadata": {},
   "outputs": [
    {
     "data": {
      "text/plain": [
       "(5000,)"
      ]
     },
     "execution_count": 24,
     "metadata": {},
     "output_type": "execute_result"
    }
   ],
   "source": [
    "y_pred = a3.argmax(1) + 1\n",
    "y_pred.shape"
   ]
  },
  {
   "cell_type": "code",
   "execution_count": 25,
   "metadata": {
    "scrolled": true
   },
   "outputs": [
    {
     "data": {
      "text/plain": [
       "array([10, 10, 10, ...,  9,  9,  9])"
      ]
     },
     "execution_count": 25,
     "metadata": {},
     "output_type": "execute_result"
    }
   ],
   "source": [
    "y_pred"
   ]
  },
  {
   "cell_type": "markdown",
   "metadata": {},
   "source": [
    "# Cost function"
   ]
  },
  {
   "cell_type": "code",
   "execution_count": 1,
   "metadata": {},
   "outputs": [],
   "source": [
    "import numba"
   ]
  },
  {
   "cell_type": "code",
   "execution_count": 27,
   "metadata": {},
   "outputs": [],
   "source": [
    "@numba.jit\n",
    "def nnCostFunction(θ, \n",
    "                   n_input_features, \n",
    "                   n_units_hidden_layer, \n",
    "                   n_units_output_layer,\n",
    "                   X, y, λ, compute_gradient=True):\n",
    "    \"\"\"\n",
    "    Compute the cost function for a neural network\n",
    "    \n",
    "    Arguments:\n",
    "        θ (1D array): flattened array of parameters \n",
    "        n_units_hidden_layer (int): number of units in the hidden layer\n",
    "            not including the bias unit.\n",
    "        X (2D array): array of training sample, one row per sample, one \n",
    "            column per feature (including bias column).\n",
    "        y (1D array): training output, same size as the rows in X.\n",
    "    \n",
    "    Returns:\n",
    "        J (float): the cost function computed at θ.\n",
    "        Grad (1D array): gradient of the cost function, same size as θ.\n",
    "    \"\"\"\n",
    "    assert len(y) == X.shape[0]\n",
    "    assert X.shape[1] == n_input_features + 1\n",
    "    assert n_units_output_layer == np.unique(y).size\n",
    "    \n",
    "    Θ1_shape = n_units_hidden_layer, n_input_features + 1\n",
    "    Θ2_shape = n_units_output_layer, n_units_hidden_layer + 1\n",
    "    Θ1 = θ[:Θ1_shape[0]*Θ1_shape[1]].reshape(Θ1_shape) \n",
    "    Θ2 = θ[Θ1_shape[0]*Θ1_shape[1]:].reshape(Θ2_shape) \n",
    "    \n",
    "    m = len(y)  # number of training samples\n",
    "    \n",
    "    # Convert output to one-hot encoding\n",
    "    y1 = np.zeros((m, n_units_output_layer), dtype=bool)\n",
    "    for i in range(n_units_output_layer):\n",
    "        y1[:, i] = y == i + 1\n",
    "    \n",
    "    # Feed-forward\n",
    "    a1 = X\n",
    "    a2 = sigmoid(a1 @ Θ1.T)\n",
    "    a2 = np.hstack([np.ones((a2.shape[0], 1)), a2])\n",
    "    a3 = sigmoid(a2 @ Θ2.T) \n",
    "    hθ = a3\n",
    "    assert (a1[:, 0] == 1).all()\n",
    "    assert (a2[:, 0] == 1).all()\n",
    "    \n",
    "    # Compute cost\n",
    "    theta_norm2 = (Θ1[:,1:]**2).sum() + (Θ2[:,1:]**2).sum()\n",
    "    J = (-1/m) * np.sum(y1 * np.log(hθ) + (1-y1) * np.log(1-hθ)) + (λ/(2*m)) * theta_norm2\n",
    "    \n",
    "    if not compute_gradient:\n",
    "        return J\n",
    "    \n",
    "    # Compute \"error\" δ\n",
    "    δ3 = a3 - y1\n",
    "    gprime2 = a2 * (1 - a2)\n",
    "    δ2 = (δ3 @ Θ2) * gprime2  \n",
    "\n",
    "    # Compute derivative\n",
    "    Grad1 = np.zeros_like(Θ1)\n",
    "    Grad2 = np.zeros_like(Θ2)\n",
    "    Δ1 = np.zeros_like(Θ1)\n",
    "    Δ2 = np.zeros_like(Θ2)\n",
    "    for i in range(X.shape[0]):\n",
    "        Δ2 += np.outer(δ3[i], a2[i])\n",
    "        Δ1 += np.outer(δ2[i], a1[i])[1:] \n",
    "    Grad1 = (1/m) * Δ1\n",
    "    Grad2 = (1/m) * Δ2\n",
    "    Grad1[:, 1:] += λ/m * Θ1[:, 1:]\n",
    "    Grad2[:, 1:] += λ/m * Θ2[:, 1:]\n",
    "    Grad = np.hstack([Grad1.ravel(), Grad2.ravel()])\n",
    "    return J, Grad\n",
    "\n",
    "\n",
    "def gradient(func, x, delta=1e-4):\n",
    "    grad = np.zeros_like(x)\n",
    "    xp = x.copy()\n",
    "    xn = x.copy()\n",
    "    for i in range(x.size):\n",
    "        xp[i] += delta\n",
    "        xn[i] -= delta\n",
    "        #assert np.where(np.abs(xp - xn) > 1e-12)[0] == i\n",
    "        #assert abs((xp - xn).sum() - 2*delta) < 1e-12\n",
    "        grad[i] = func(xp) - func(xn)\n",
    "        xp[i] -= delta\n",
    "        xn[i] += delta\n",
    "    grad /= (2 * delta)\n",
    "    return grad"
   ]
  },
  {
   "cell_type": "code",
   "execution_count": 28,
   "metadata": {},
   "outputs": [],
   "source": [
    "params_nn_opt = np.hstack([Theta1.ravel(), Theta2.ravel()])\n",
    "θ_init = (np.random.rand(params_nn_opt.size) - 0.5) * 1e-2"
   ]
  },
  {
   "cell_type": "code",
   "execution_count": 29,
   "metadata": {},
   "outputs": [
    {
     "name": "stdout",
     "output_type": "stream",
     "text": [
      "116 ms ± 3.55 ms per loop (mean ± std. dev. of 7 runs, 1 loop each)\n"
     ]
    }
   ],
   "source": [
    "%%timeit\n",
    "nnCostFunction(θ=θ_init, \n",
    "               n_input_features=400, \n",
    "               n_units_hidden_layer=25, \n",
    "               n_units_output_layer=10,\n",
    "               X=X, y=y, λ=1)"
   ]
  },
  {
   "cell_type": "code",
   "execution_count": 30,
   "metadata": {},
   "outputs": [
    {
     "name": "stdout",
     "output_type": "stream",
     "text": [
      "5.7 ms ± 504 µs per loop (mean ± std. dev. of 7 runs, 1 loop each)\n"
     ]
    }
   ],
   "source": [
    "%%timeit\n",
    "nnCostFunction(θ=θ_init, \n",
    "               n_input_features=400, \n",
    "               n_units_hidden_layer=25, \n",
    "               n_units_output_layer=10,\n",
    "               X=X, y=y, λ=1, compute_gradient=False)"
   ]
  },
  {
   "cell_type": "markdown",
   "metadata": {},
   "source": [
    "# Train Neural Network"
   ]
  },
  {
   "cell_type": "code",
   "execution_count": 31,
   "metadata": {},
   "outputs": [],
   "source": [
    "import scipy.optimize as so"
   ]
  },
  {
   "cell_type": "code",
   "execution_count": 32,
   "metadata": {},
   "outputs": [],
   "source": [
    "def _cost(θ, X, y, λ):\n",
    "    print('.', end='', flush=True)\n",
    "    return nnCostFunction(θ, n_input_features=400, n_units_hidden_layer=25, \n",
    "                          n_units_output_layer=10, X=X, y=y, λ=λ)"
   ]
  },
  {
   "cell_type": "code",
   "execution_count": 33,
   "metadata": {},
   "outputs": [],
   "source": [
    "i = 0\n",
    "θ_history = []\n",
    "J_history = []\n",
    "def callback(θ):\n",
    "    global θ_history, i\n",
    "    i += 1\n",
    "    print(f'Iteration {i}: ', end='', flush=True)\n",
    "    θ_history.append(θ)\n",
    "    J = nnCostFunction(θ, n_input_features=400, n_units_hidden_layer=25, \n",
    "                       n_units_output_layer=10, X=X, y=y, λ=λ,\n",
    "                       compute_gradient=False)\n",
    "    print(f'J = {J}', flush=True)\n",
    "    J_history.append(J)"
   ]
  },
  {
   "cell_type": "code",
   "execution_count": 34,
   "metadata": {
    "scrolled": false
   },
   "outputs": [
    {
     "name": "stdout",
     "output_type": "stream",
     "text": [
      "....Iteration 1: J = 3.2926431960007383\n",
      "...Iteration 2: J = 3.2513627392943785\n",
      "..Iteration 3: J = 3.2512347130475336\n",
      "...Iteration 4: J = 3.2506739087371987\n",
      "..Iteration 5: J = 3.249865612249023\n",
      "......Iteration 6: J = 2.7862656316106977\n",
      "..Iteration 7: J = 2.770963723537884\n",
      "....Iteration 8: J = 2.059974018521259\n",
      "..Iteration 9: J = 1.8564157775288863\n",
      "...Iteration 10: J = 1.6556808594192325\n",
      "..Iteration 11: J = 1.5464045819466157\n",
      "..Iteration 12: J = 1.4217351024128642\n",
      "..Iteration 13: J = 1.337833304412499\n",
      "..Iteration 14: J = 1.2576447090440879\n",
      "..Iteration 15: J = 1.1414411066101628\n",
      "...Iteration 16: J = 1.0483830154259353\n",
      "..Iteration 17: J = 0.961951673341222\n",
      "..Iteration 18: J = 0.8413837023028516\n",
      "..Iteration 19: J = 0.7934813831813812\n",
      "...Iteration 20: J = 0.7631503581082979\n",
      "..Iteration 21: J = 0.7312510278977152\n",
      "..Iteration 22: J = 0.7097380215692417\n",
      "...Iteration 23: J = 0.6778318395752289\n",
      "..Iteration 24: J = 0.6469983963582363\n",
      "...Iteration 25: J = 0.6178515272658165\n",
      "...Iteration 26: J = 0.5843917648908777\n",
      "..Iteration 27: J = 0.5543027409272768\n",
      "..Iteration 28: J = 0.5383277466186133\n",
      "...Iteration 29: J = 0.5305990390284393\n",
      "..Iteration 30: J = 0.522916872430557\n",
      "..Iteration 31: J = 0.5167140215662375\n",
      "...Iteration 32: J = 0.5089164428283732\n",
      "...Iteration 33: J = 0.49753821845745627\n",
      "...Iteration 34: J = 0.47333509128693924\n",
      "..Iteration 35: J = 0.43303594358321984\n",
      "..Iteration 36: J = 0.41821307027888815\n",
      "..Iteration 37: J = 0.4084299237116743\n",
      "..Iteration 38: J = 0.4035421743686557\n",
      "...Iteration 39: J = 0.3979424908884303\n",
      "..Iteration 40: J = 0.3912882186938569\n",
      "..Iteration 41: J = 0.3847418551339707\n",
      "...Iteration 42: J = 0.38095255760537655\n",
      "..Iteration 43: J = 0.37729600161840726\n",
      "..Iteration 44: J = 0.37130266120284\n",
      "..Iteration 45: J = 0.3679943403285528\n",
      "...Iteration 46: J = 0.364766663360619\n",
      "...Iteration 47: J = 0.35833497987926566\n",
      "..Iteration 48: J = 0.34778435156603255\n",
      "..Iteration 49: J = 0.33821115510361444\n",
      "..Iteration 50: J = 0.33264884149530594\n",
      "...Iteration 51: J = 0.3287974755134076\n",
      "..Iteration 52: J = 0.326273215061026\n",
      "..Iteration 53: J = 0.32300195519276065\n",
      "..Iteration 54: J = 0.32014811016374256\n",
      "...Iteration 55: J = 0.3177333938935501\n",
      "..Iteration 56: J = 0.31547274263216674\n",
      "..Iteration 57: J = 0.3134659535173592\n",
      "...Iteration 58: J = 0.3103080953560757\n",
      "..Iteration 59: J = 0.30761181661500986\n",
      "..Iteration 60: J = 0.30572777399101414\n",
      "...Iteration 61: J = 0.30360920225969246\n",
      "..Iteration 62: J = 0.30202993564270925\n",
      "..Iteration 63: J = 0.30012728263753796\n",
      "...Iteration 64: J = 0.29725265441868126\n",
      "..Iteration 65: J = 0.29553518977316734\n",
      "...Iteration 66: J = 0.29291553278753757\n",
      "..Iteration 67: J = 0.29083633890847815\n",
      "...Iteration 68: J = 0.28762002426819494\n",
      "...Iteration 69: J = 0.2835939803277423\n",
      "...Iteration 70: J = 0.2694592186037273\n",
      "...Iteration 71: J = 0.2439907554526146\n",
      "..Iteration 72: J = 0.21783941894325098\n",
      "..Iteration 73: J = 0.2107993165783016\n",
      "..Iteration 74: J = 0.20748748587688606\n",
      "..Iteration 75: J = 0.2062645834419254\n",
      "...Iteration 76: J = 0.2045552194381113\n",
      "...Iteration 77: J = 0.20119122418160987\n",
      "..Iteration 78: J = 0.19754023085491268\n",
      "..Iteration 79: J = 0.19629610445289716\n",
      "..Iteration 80: J = 0.19549791554932336\n",
      "...Iteration 81: J = 0.1943706915968457\n",
      "..Iteration 82: J = 0.19302687350062628\n",
      "..Iteration 83: J = 0.1923238037206858\n",
      "...Iteration 84: J = 0.19111799600729876\n",
      "..Iteration 85: J = 0.19031399872375418\n",
      "...Iteration 86: J = 0.1896326546843608\n",
      "...Iteration 87: J = 0.18864027951598913\n",
      "...Iteration 88: J = 0.18660698163215433\n",
      "...Iteration 89: J = 0.18186004258925081\n",
      "...Iteration 90: J = 0.170915404705507\n",
      "...Iteration 91: J = 0.15499662287816193\n",
      "..Iteration 92: J = 0.14759686297603772\n",
      "..Iteration 93: J = 0.14274781836030392\n",
      "..Iteration 94: J = 0.1403334957306244\n",
      "...Iteration 95: J = 0.1384060608243684\n",
      "...Iteration 96: J = 0.1356179100851393\n",
      "...Iteration 97: J = 0.13204363331724775\n",
      "..Iteration 98: J = 0.1301599536816301\n",
      "..Iteration 99: J = 0.12895751012514386\n",
      "...Iteration 100: J = 0.1278958277891579\n"
     ]
    },
    {
     "data": {
      "text/plain": [
       "     fun: 0.1278958277891579\n",
       "     jac: array([1.52786135e-04, 0.00000000e+00, 0.00000000e+00, ...,\n",
       "       7.16339683e-06, 4.59649594e-07, 1.01888147e-04])\n",
       " message: 'Maximum number of iterations has been exceeded.'\n",
       "    nfev: 247\n",
       "     nit: 100\n",
       "    njev: 247\n",
       "  status: 1\n",
       " success: False\n",
       "       x: array([-1.40621302,  0.00337941, -0.00461381, ..., -2.11735311,\n",
       "       -0.0918285 , -1.65839236])"
      ]
     },
     "execution_count": 34,
     "metadata": {},
     "output_type": "execute_result"
    }
   ],
   "source": [
    "λ = 0\n",
    "res = so.minimize(_cost, θ_init, args=(X, y, λ), method='CG', jac=True, \n",
    "                  callback=callback, \n",
    "                  options=dict(maxiter=200))\n",
    "res"
   ]
  },
  {
   "cell_type": "code",
   "execution_count": 38,
   "metadata": {},
   "outputs": [
    {
     "data": {
      "text/plain": [
       "array([-6.13162359e-01, -3.95361788e-03, -2.46997820e-03, ...,\n",
       "       -1.21491067e+00, -1.87467732e+00,  3.30256218e+00])"
      ]
     },
     "execution_count": 38,
     "metadata": {},
     "output_type": "execute_result"
    }
   ],
   "source": [
    "θ = res['x']\n",
    "θ"
   ]
  },
  {
   "cell_type": "code",
   "execution_count": 35,
   "metadata": {},
   "outputs": [
    {
     "data": {
      "image/png": "[encoded data removed]",
      "text/plain": [
       "<Figure size 432x288 with 1 Axes>"
      ]
     },
     "metadata": {},
     "output_type": "display_data"
    }
   ],
   "source": [
    "plt.hist(θ, bins=50);"
   ]
  },
  {
   "cell_type": "code",
   "execution_count": 140,
   "metadata": {},
   "outputs": [],
   "source": [
    "θ = θ_CG_200_W1em2"
   ]
  },
  {
   "cell_type": "code",
   "execution_count": 120,
   "metadata": {},
   "outputs": [],
   "source": [
    "θ_CG_200_W1em2 = θ.copy()"
   ]
  },
  {
   "cell_type": "code",
   "execution_count": 112,
   "metadata": {},
   "outputs": [],
   "source": [
    "θ_CG_100_W1em2 = θ.copy()"
   ]
  },
  {
   "cell_type": "code",
   "execution_count": 97,
   "metadata": {},
   "outputs": [],
   "source": [
    "θ_CG_100 = θ.copy()"
   ]
  },
  {
   "cell_type": "code",
   "execution_count": 102,
   "metadata": {},
   "outputs": [
    {
     "data": {
      "image/png": "[encoded data removed]",
      "text/plain": [
       "<Figure size 432x288 with 1 Axes>"
      ]
     },
     "metadata": {},
     "output_type": "display_data"
    }
   ],
   "source": [
    "plt.hist(θ_CG_100, bins=50);"
   ]
  },
  {
   "cell_type": "code",
   "execution_count": 36,
   "metadata": {},
   "outputs": [],
   "source": [
    "Θ1 = θ[:Θ1_shape[0]*Θ1_shape[1]].reshape(Θ1_shape) \n",
    "Θ2 = θ[Θ1_shape[0]*Θ1_shape[1]:].reshape(Θ2_shape) "
   ]
  },
  {
   "cell_type": "code",
   "execution_count": 37,
   "metadata": {},
   "outputs": [
    {
     "data": {
      "text/plain": [
       "array([10, 10, 10, ...,  9,  9,  9])"
      ]
     },
     "execution_count": 37,
     "metadata": {},
     "output_type": "execute_result"
    }
   ],
   "source": [
    "a1 = X\n",
    "a2 = sigmoid(a1 @ Θ1.T)\n",
    "a2 = np.hstack([np.ones((a2.shape[0], 1)), a2])\n",
    "a3 = sigmoid(a2 @ Θ2.T)\n",
    "\n",
    "y_pred = a3.argmax(1) + 1\n",
    "y_pred"
   ]
  },
  {
   "cell_type": "code",
   "execution_count": 38,
   "metadata": {},
   "outputs": [
    {
     "data": {
      "text/plain": [
       "0.9752"
      ]
     },
     "execution_count": 38,
     "metadata": {},
     "output_type": "execute_result"
    }
   ],
   "source": [
    "(y == y_pred).sum() / m"
   ]
  },
  {
   "cell_type": "code",
   "execution_count": 39,
   "metadata": {},
   "outputs": [
    {
     "data": {
      "image/png": "[encoded data removed]",
      "text/plain": [
       "<Figure size 432x288 with 1 Axes>"
      ]
     },
     "metadata": {},
     "output_type": "display_data"
    }
   ],
   "source": [
    "plt.hist(y[y != y_pred]-1, bins=np.arange(0, 11) - 0.5);"
   ]
  },
  {
   "cell_type": "code",
   "execution_count": 40,
   "metadata": {},
   "outputs": [
    {
     "data": {
      "text/plain": [
       "[<matplotlib.lines.Line2D at 0x1a2030f0b8>]"
      ]
     },
     "execution_count": 40,
     "metadata": {},
     "output_type": "execute_result"
    },
    {
     "data": {
      "image/png": "[encoded data removed]",
      "text/plain": [
       "<Figure size 432x288 with 1 Axes>"
      ]
     },
     "metadata": {},
     "output_type": "display_data"
    }
   ],
   "source": [
    "plt.plot(J_history)"
   ]
  },
  {
   "cell_type": "markdown",
   "metadata": {},
   "source": [
    "# Scikit-learn"
   ]
  },
  {
   "cell_type": "code",
   "execution_count": 241,
   "metadata": {},
   "outputs": [],
   "source": [
    "from sklearn.neural_network import MLPClassifier\n",
    "from sklearn.model_selection import train_test_split\n",
    "from sklearn.model_selection import learning_curve\n",
    "from sklearn.model_selection import validation_curve\n",
    "from sklearn.model_selection import ShuffleSplit\n",
    "from sklearn.svm import SVC"
   ]
  },
  {
   "cell_type": "code",
   "execution_count": 42,
   "metadata": {},
   "outputs": [
    {
     "data": {
      "text/plain": [
       "((5000, 401), (5000,))"
      ]
     },
     "execution_count": 42,
     "metadata": {},
     "output_type": "execute_result"
    }
   ],
   "source": [
    "X.shape, y.shape"
   ]
  },
  {
   "cell_type": "code",
   "execution_count": 43,
   "metadata": {},
   "outputs": [
    {
     "data": {
      "text/plain": [
       "(400, 5000)"
      ]
     },
     "execution_count": 43,
     "metadata": {},
     "output_type": "execute_result"
    }
   ],
   "source": [
    "n_input_features, n_samples"
   ]
  },
  {
   "cell_type": "code",
   "execution_count": 44,
   "metadata": {},
   "outputs": [
    {
     "data": {
      "text/plain": [
       "25"
      ]
     },
     "execution_count": 44,
     "metadata": {},
     "output_type": "execute_result"
    }
   ],
   "source": [
    "n_units_hidden_layer"
   ]
  },
  {
   "cell_type": "code",
   "execution_count": 61,
   "metadata": {},
   "outputs": [
    {
     "data": {
      "text/plain": [
       "[(2000, 401), (3000, 401), (2000,), (3000,), (2000, 10), (3000, 10)]"
      ]
     },
     "execution_count": 61,
     "metadata": {},
     "output_type": "execute_result"
    }
   ],
   "source": [
    "X_train, X_test, y_train, y_test, y1_train, y1_test = train_test_split(X, y, y1, \n",
    "                                                                       test_size=0.6)\n",
    "[x.shape for x in (X_train, X_test, y_train, y_test, y1_train, y2_test)]"
   ]
  },
  {
   "cell_type": "code",
   "execution_count": 227,
   "metadata": {},
   "outputs": [],
   "source": [
    "clf = MLPClassifier(solver='lbfgs', activation='logistic', alpha=10,\n",
    "                    hidden_layer_sizes=(n_units_hidden_layer,), \n",
    "                    random_state=1, verbose=True)"
   ]
  },
  {
   "cell_type": "code",
   "execution_count": 228,
   "metadata": {},
   "outputs": [],
   "source": [
    "clf = MLPClassifier(solver='lbfgs', activation='relu', alpha=10,\n",
    "                    hidden_layer_sizes=(n_units_hidden_layer,), \n",
    "                    random_state=1, verbose=True)"
   ]
  },
  {
   "cell_type": "code",
   "execution_count": 229,
   "metadata": {},
   "outputs": [
    {
     "data": {
      "text/plain": [
       "MLPClassifier(activation='relu', alpha=10, batch_size='auto', beta_1=0.9,\n",
       "       beta_2=0.999, early_stopping=False, epsilon=1e-08,\n",
       "       hidden_layer_sizes=(25,), learning_rate='constant',\n",
       "       learning_rate_init=0.001, max_iter=200, momentum=0.9,\n",
       "       nesterovs_momentum=True, power_t=0.5, random_state=1, shuffle=True,\n",
       "       solver='lbfgs', tol=0.0001, validation_fraction=0.1, verbose=True,\n",
       "       warm_start=False)"
      ]
     },
     "execution_count": 229,
     "metadata": {},
     "output_type": "execute_result"
    }
   ],
   "source": [
    "clf.fit(X_train, y1_train)"
   ]
  },
  {
   "cell_type": "markdown",
   "metadata": {},
   "source": [
    "## Validation curves\n",
    "\n",
    "Explore the dependence of training and test score over the regularization factor:"
   ]
  },
  {
   "cell_type": "code",
   "execution_count": 230,
   "metadata": {},
   "outputs": [],
   "source": [
    "cv = ShuffleSplit(n_splits=10, test_size=0.1, random_state=0)"
   ]
  },
  {
   "cell_type": "code",
   "execution_count": 231,
   "metadata": {},
   "outputs": [],
   "source": [
    "alpha_grid = [1, 10, 20, 30, 100]\n",
    "train_scores, valid_scores = validation_curve(clf, X, y1, \"alpha\",\n",
    "                                              alpha_grid,\n",
    "                                              cv=cv,\n",
    "                                              n_jobs=2)"
   ]
  },
  {
   "cell_type": "code",
   "execution_count": 232,
   "metadata": {},
   "outputs": [
    {
     "data": {
      "text/plain": [
       "((5, 10), (5, 10))"
      ]
     },
     "execution_count": 232,
     "metadata": {},
     "output_type": "execute_result"
    }
   ],
   "source": [
    "train_scores.shape, valid_scores.shape"
   ]
  },
  {
   "cell_type": "code",
   "execution_count": 233,
   "metadata": {},
   "outputs": [
    {
     "data": {
      "text/plain": [
       "array([[0.99644444, 0.99666667, 0.99844444, 0.99844444, 0.99755556,\n",
       "        0.99666667, 0.99711111, 0.998     , 0.99866667, 0.99933333],\n",
       "       [0.94044444, 0.94133333, 0.94044444, 0.93977778, 0.93822222,\n",
       "        0.94222222, 0.938     , 0.93466667, 0.94177778, 0.94111111],\n",
       "       [0.91577778, 0.91644444, 0.91377778, 0.91488889, 0.91222222,\n",
       "        0.91377778, 0.91288889, 0.91177778, 0.91866667, 0.90933333],\n",
       "       [0.88911111, 0.89644444, 0.89155556, 0.88933333, 0.89222222,\n",
       "        0.89222222, 0.89088889, 0.88866667, 0.89377778, 0.89311111],\n",
       "       [0.77822222, 0.77866667, 0.77977778, 0.78222222, 0.77933333,\n",
       "        0.78266667, 0.784     , 0.77844444, 0.78466667, 0.77911111]])"
      ]
     },
     "execution_count": 233,
     "metadata": {},
     "output_type": "execute_result"
    }
   ],
   "source": [
    "train_scores"
   ]
  },
  {
   "cell_type": "code",
   "execution_count": 234,
   "metadata": {},
   "outputs": [
    {
     "data": {
      "text/plain": [
       "array([[0.842, 0.874, 0.876, 0.846, 0.85 , 0.852, 0.848, 0.878, 0.842,\n",
       "        0.85 ],\n",
       "       [0.87 , 0.88 , 0.888, 0.882, 0.876, 0.864, 0.882, 0.9  , 0.872,\n",
       "        0.87 ],\n",
       "       [0.858, 0.872, 0.88 , 0.872, 0.878, 0.846, 0.884, 0.886, 0.868,\n",
       "        0.868],\n",
       "       [0.85 , 0.856, 0.874, 0.854, 0.854, 0.846, 0.854, 0.876, 0.832,\n",
       "        0.872],\n",
       "       [0.762, 0.774, 0.782, 0.752, 0.786, 0.758, 0.74 , 0.784, 0.738,\n",
       "        0.782]])"
      ]
     },
     "execution_count": 234,
     "metadata": {},
     "output_type": "execute_result"
    }
   ],
   "source": [
    "valid_scores"
   ]
  },
  {
   "cell_type": "code",
   "execution_count": 235,
   "metadata": {},
   "outputs": [
    {
     "data": {
      "image/png": "[encoded data removed]",
      "text/plain": [
       "<Figure size 432x288 with 1 Axes>"
      ]
     },
     "metadata": {},
     "output_type": "display_data"
    }
   ],
   "source": [
    "plt.plot(alpha_grid, train_scores.mean(1), '-o', label='train scores')\n",
    "yspan_train = train_scores.mean(1) - train_scores.std(1), train_scores.mean(1) + train_scores.std(1)\n",
    "plt.fill_between(alpha_grid, yspan_train[0], yspan_train[1], color='C0', alpha=0.3)\n",
    "\n",
    "plt.plot(alpha_grid, valid_scores.mean(1), '-o', label='validation scores')\n",
    "yspan_valid = valid_scores.mean(1) - valid_scores.std(1), valid_scores.mean(1) + valid_scores.std(1)\n",
    "plt.fill_between(alpha_grid, yspan_valid[0], yspan_valid[1], color='C1', alpha=0.3)\n",
    "\n",
    "plt.xlabel(r'$\\lambda$ (regularization factor)');\n",
    "plt.grid()\n",
    "plt.legend();"
   ]
  },
  {
   "cell_type": "markdown",
   "metadata": {},
   "source": [
    "## Learning Curves"
   ]
  },
  {
   "cell_type": "code",
   "execution_count": 236,
   "metadata": {},
   "outputs": [],
   "source": [
    "train_sizes = [1000, 2000, 3000, 4000, 5000]\n",
    "train_sizes, train_scores, valid_scores = learning_curve(clf, X, y1, cv=cv, n_jobs=2)"
   ]
  },
  {
   "cell_type": "code",
   "execution_count": 237,
   "metadata": {},
   "outputs": [
    {
     "data": {
      "text/plain": [
       "array([ 450, 1462, 2475, 3487, 4500])"
      ]
     },
     "execution_count": 237,
     "metadata": {},
     "output_type": "execute_result"
    }
   ],
   "source": [
    "train_sizes"
   ]
  },
  {
   "cell_type": "code",
   "execution_count": 238,
   "metadata": {},
   "outputs": [
    {
     "data": {
      "text/plain": [
       "array([[0.702, 0.734, 0.734, 0.69 , 0.72 , 0.718, 0.742, 0.728, 0.684,\n",
       "        0.726],\n",
       "       [0.832, 0.824, 0.83 , 0.812, 0.828, 0.818, 0.824, 0.85 , 0.818,\n",
       "        0.826],\n",
       "       [0.848, 0.84 , 0.88 , 0.836, 0.86 , 0.83 , 0.844, 0.868, 0.848,\n",
       "        0.848],\n",
       "       [0.856, 0.854, 0.894, 0.86 , 0.874, 0.858, 0.872, 0.88 , 0.864,\n",
       "        0.858],\n",
       "       [0.87 , 0.88 , 0.888, 0.882, 0.876, 0.864, 0.882, 0.9  , 0.872,\n",
       "        0.87 ]])"
      ]
     },
     "execution_count": 238,
     "metadata": {},
     "output_type": "execute_result"
    }
   ],
   "source": [
    "valid_scores"
   ]
  },
  {
   "cell_type": "code",
   "execution_count": 239,
   "metadata": {
    "scrolled": true
   },
   "outputs": [
    {
     "data": {
      "image/png": "[encoded data removed]",
      "text/plain": [
       "<Figure size 432x288 with 1 Axes>"
      ]
     },
     "metadata": {},
     "output_type": "display_data"
    }
   ],
   "source": [
    "plt.plot(train_sizes, train_scores.mean(1), color='C0', marker='o', label='train scores')\n",
    "yspan_train = train_scores.mean(1) - train_scores.std(1), train_scores.mean(1) + train_scores.std(1)\n",
    "plt.fill_between(train_sizes, yspan_train[0], yspan_train[1], color='C0', alpha=0.3)\n",
    "\n",
    "plt.plot(train_sizes, valid_scores.mean(1), color='C1', marker='o', label='validation scores')\n",
    "yspan_valid = valid_scores.mean(1) - valid_scores.std(1), valid_scores.mean(1) + valid_scores.std(1)\n",
    "plt.fill_between(train_sizes, yspan_valid[0], yspan_valid[1], color='C1', alpha=0.3)\n",
    "\n",
    "plt.xlabel('# Training samples')\n",
    "plt.grid()\n",
    "plt.legend();"
   ]
  },
  {
   "cell_type": "markdown",
   "metadata": {},
   "source": [
    "# SVM"
   ]
  },
  {
   "cell_type": "code",
   "execution_count": 246,
   "metadata": {},
   "outputs": [
    {
     "data": {
      "text/plain": [
       "[(2000, 401), (3000, 401), (2000,), (3000,), (2000, 10), (3000, 10)]"
      ]
     },
     "execution_count": 246,
     "metadata": {},
     "output_type": "execute_result"
    }
   ],
   "source": [
    "X_train, X_test, y_train, y_test, y1_train, y1_test = train_test_split(X, y, y1, \n",
    "                                                                       test_size=0.6)\n",
    "[x.shape for x in (X_train, X_test, y_train, y_test, y1_train, y1_test)]"
   ]
  },
  {
   "cell_type": "code",
   "execution_count": 249,
   "metadata": {},
   "outputs": [
    {
     "data": {
      "text/plain": [
       "((2000, 401), (2000, 10))"
      ]
     },
     "execution_count": 249,
     "metadata": {},
     "output_type": "execute_result"
    }
   ],
   "source": [
    "X_train.shape, y1_train.shape"
   ]
  },
  {
   "cell_type": "code",
   "execution_count": 263,
   "metadata": {},
   "outputs": [
    {
     "data": {
      "text/plain": [
       "SVC(C=1.0, cache_size=200, class_weight=None, coef0=0.0,\n",
       "  decision_function_shape='ovr', degree=3, gamma=0.01, kernel='rbf',\n",
       "  max_iter=-1, probability=False, random_state=None, shrinking=True,\n",
       "  tol=0.001, verbose=False)"
      ]
     },
     "execution_count": 263,
     "metadata": {},
     "output_type": "execute_result"
    }
   ],
   "source": [
    "clf = SVC(gamma=0.01)\n",
    "clf.fit(X_train, y_train)"
   ]
  },
  {
   "cell_type": "code",
   "execution_count": 258,
   "metadata": {
    "scrolled": false
   },
   "outputs": [],
   "source": [
    "gamma_grid = [0.01, 0.05, 0.0]\n",
    "train_scores, valid_scores = validation_curve(clf, X, y, \"gamma\",\n",
    "                                              gamma_grid,\n",
    "                                              cv=cv,\n",
    "                                              n_jobs=2)"
   ]
  },
  {
   "cell_type": "code",
   "execution_count": 254,
   "metadata": {},
   "outputs": [],
   "source": [
    "gamma_grid_save = gamma_grid.copy()\n",
    "train_scores_save = train_scores.copy()\n",
    "valid_scores_save = valid_scores.copy()"
   ]
  },
  {
   "cell_type": "code",
   "execution_count": 260,
   "metadata": {},
   "outputs": [
    {
     "data": {
      "text/plain": [
       "(1, 10)"
      ]
     },
     "execution_count": 260,
     "metadata": {},
     "output_type": "execute_result"
    }
   ],
   "source": [
    "train_scores.shape"
   ]
  },
  {
   "cell_type": "code",
   "execution_count": 261,
   "metadata": {},
   "outputs": [],
   "source": [
    "#gamma_grid = gamma_grid + gamma_grid_save\n",
    "train_scores = np.vstack([train_scores, train_scores_save])\n",
    "valid_scores = np.vstack([valid_scores, valid_scores_save])"
   ]
  },
  {
   "cell_type": "code",
   "execution_count": 262,
   "metadata": {},
   "outputs": [
    {
     "data": {
      "image/png": "[encoded data removed]",
      "text/plain": [
       "<Figure size 432x288 with 1 Axes>"
      ]
     },
     "metadata": {},
     "output_type": "display_data"
    }
   ],
   "source": [
    "plt.plot(gamma_grid, train_scores.mean(1), '-o', label='train scores')\n",
    "yspan_train = train_scores.mean(1) - train_scores.std(1), train_scores.mean(1) + train_scores.std(1)\n",
    "plt.fill_between(gamma_grid, yspan_train[0], yspan_train[1], color='C0', alpha=0.3)\n",
    "\n",
    "plt.plot(gamma_grid, valid_scores.mean(1), '-o', label='validation scores')\n",
    "yspan_valid = valid_scores.mean(1) - valid_scores.std(1), valid_scores.mean(1) + valid_scores.std(1)\n",
    "plt.fill_between(gamma_grid, yspan_valid[0], yspan_valid[1], color='C1', alpha=0.3)\n",
    "\n",
    "plt.xlabel(r'$\\gamma$ (regularization factor)');\n",
    "plt.grid()\n",
    "plt.legend();"
   ]
  },
  {
   "cell_type": "code",
   "execution_count": 270,
   "metadata": {},
   "outputs": [
    {
     "data": {
      "text/plain": [
       "SVC(C=1.0, cache_size=200, class_weight=None, coef0=0.0,\n",
       "  decision_function_shape='ovr', degree=3, gamma=0.05, kernel='rbf',\n",
       "  max_iter=-1, probability=False, random_state=None, shrinking=True,\n",
       "  tol=0.001, verbose=False)"
      ]
     },
     "execution_count": 270,
     "metadata": {},
     "output_type": "execute_result"
    }
   ],
   "source": [
    "clf = SVC(gamma=0.05)\n",
    "clf.fit(X_train, y_train)"
   ]
  },
  {
   "cell_type": "code",
   "execution_count": 271,
   "metadata": {},
   "outputs": [],
   "source": [
    "train_sizes = [1000, 2000, 3000, 4000, 5000]\n",
    "train_sizes, train_scores, valid_scores = learning_curve(clf, X, y, cv=cv, n_jobs=2)"
   ]
  },
  {
   "cell_type": "code",
   "execution_count": 272,
   "metadata": {},
   "outputs": [
    {
     "data": {
      "image/png": "[encoded data removed]",
      "text/plain": [
       "<Figure size 432x288 with 1 Axes>"
      ]
     },
     "metadata": {},
     "output_type": "display_data"
    }
   ],
   "source": [
    "plt.plot(train_sizes, train_scores.mean(1), color='C0', marker='o', label='train scores')\n",
    "yspan_train = train_scores.mean(1) - train_scores.std(1), train_scores.mean(1) + train_scores.std(1)\n",
    "plt.fill_between(train_sizes, yspan_train[0], yspan_train[1], color='C0', alpha=0.3)\n",
    "\n",
    "plt.plot(train_sizes, valid_scores.mean(1), color='C1', marker='o', label='validation scores')\n",
    "yspan_valid = valid_scores.mean(1) - valid_scores.std(1), valid_scores.mean(1) + valid_scores.std(1)\n",
    "plt.fill_between(train_sizes, yspan_valid[0], yspan_valid[1], color='C1', alpha=0.3)\n",
    "\n",
    "plt.xlabel('# Training samples')\n",
    "plt.grid()\n",
    "plt.legend();"
   ]
  },
  {
   "cell_type": "markdown",
   "metadata": {},
   "source": [
    "# Test"
   ]
  },
  {
   "cell_type": "code",
   "execution_count": 370,
   "metadata": {},
   "outputs": [
    {
     "data": {
      "text/plain": [
       "((5, 4), (3, 6), (5, 4), (5,))"
      ]
     },
     "execution_count": 370,
     "metadata": {},
     "output_type": "execute_result"
    }
   ],
   "source": [
    "def debugInitializeWeights(n_out, n_in):\n",
    "    shape = n_out, 1 + n_in\n",
    "    W = np.sin(range(1, shape[0]*shape[1]+1))\n",
    "    return W.reshape(shape) / 10\n",
    "\n",
    "input_layer_size = 3\n",
    "hidden_layer_size = 5\n",
    "num_labels = 3\n",
    "m = 5\n",
    "\n",
    "# We generate some 'random' test data\n",
    "Theta1 = debugInitializeWeights(hidden_layer_size, input_layer_size);\n",
    "Theta2 = debugInitializeWeights(num_labels, hidden_layer_size);\n",
    "# Reusing debugInitializeWeights to generate X\n",
    "X = debugInitializeWeights(m, input_layer_size)\n",
    "X[:, 0] = 1\n",
    "y  = 1 + np.mod(range(1, m+1), num_labels)\n",
    "Theta1.shape, Theta2.shape, X.shape, y.shape"
   ]
  },
  {
   "cell_type": "code",
   "execution_count": 371,
   "metadata": {},
   "outputs": [
    {
     "data": {
      "text/plain": [
       "array([2, 3, 1, 2, 3])"
      ]
     },
     "execution_count": 371,
     "metadata": {},
     "output_type": "execute_result"
    }
   ],
   "source": [
    "y"
   ]
  },
  {
   "cell_type": "code",
   "execution_count": 372,
   "metadata": {},
   "outputs": [],
   "source": [
    "params_nn = np.hstack([Theta1.ravel(), Theta2.ravel()])\n",
    "J, grad = nnCostFunction(θ=params_nn, \n",
    "               n_input_features=input_layer_size, \n",
    "               n_units_hidden_layer=hidden_layer_size, \n",
    "               n_units_output_layer=num_labels,\n",
    "               X=X, y=y, λ=1)"
   ]
  },
  {
   "cell_type": "code",
   "execution_count": 373,
   "metadata": {
    "scrolled": false
   },
   "outputs": [],
   "source": [
    "def _cost(x):\n",
    "    return nnCostFunction(\n",
    "        θ=x, \n",
    "        n_input_features=input_layer_size, \n",
    "        n_units_hidden_layer=hidden_layer_size, \n",
    "        n_units_output_layer=num_labels,\n",
    "        X=X, y=y, λ=1, compute_gradient=False)\n",
    "\n",
    "g = gradient(_cost, params_nn, delta=1e-4)\n",
    "assert (np.abs(g - grad) < 1e-9).all()"
   ]
  },
  {
   "cell_type": "code",
   "execution_count": null,
   "metadata": {},
   "outputs": [],
   "source": []
  }
 ],
 "metadata": {
  "kernelspec": {
   "display_name": "Python 3.6 (py36)",
   "language": "python",
   "name": "py36"
  },
  "language_info": {
   "codemirror_mode": {
    "name": "ipython",
    "version": 3
   },
   "file_extension": ".py",
   "mimetype": "text/x-python",
   "name": "python",
   "nbconvert_exporter": "python",
   "pygments_lexer": "ipython3",
   "version": "3.6.7"
  },
  "notify_time": "10",
  "toc": {
   "nav_menu": {},
   "number_sections": false,
   "sideBar": true,
   "skip_h1_title": false,
   "toc_cell": false,
   "toc_position": {
    "height": "591.867px",
    "left": "0px",
    "right": "1004px",
    "top": "111.133px",
    "width": "212px"
   },
   "toc_section_display": "block",
   "toc_window_display": true
  }
 },
 "nbformat": 4,
 "nbformat_minor": 2
}
