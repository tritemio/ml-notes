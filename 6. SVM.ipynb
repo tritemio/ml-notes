{
 "cells": [
  {
   "cell_type": "code",
   "execution_count": 1,
   "metadata": {},
   "outputs": [],
   "source": [
    "import numpy as np\n",
    "import seaborn as sns\n",
    "import pandas as pd\n",
    "import matplotlib.pyplot as plt\n",
    "%matplotlib inline"
   ]
  },
  {
   "cell_type": "markdown",
   "metadata": {},
   "source": [
    "# Logistic regression\n",
    "\n",
    "## Prediction\n",
    "\n",
    "A trained logistic regression model will predict:\n",
    "\n",
    "- $y=1\\quad$ when $\\quad g(\\theta^T x) \\ge 0.5 \\quad(\\Rightarrow\\quad \\theta^T x \\ge 0)$\n",
    "- $y=0\\quad$ when $\\quad g(\\theta^T x) < 0.5 \\quad(\\Rightarrow\\quad \\theta^T x < 0)$\n",
    "\n",
    "If the dot-product of $x$ and $\\theta$ is $\\ge0$ then the model predicts $y=1$, \n",
    "otherwise it predicts $y =0$. \n",
    "\n",
    "The sigmoid function $g: \\mathbb{R} \\mapsto [0 .. 1]$ is defined as:\n",
    "\n",
    "$$g(z) = \\frac{1}{1 + e^{-z}}$$\n",
    "\n",
    "\n",
    "## Optimization\n",
    "\n",
    "The vector $\\theta$ is learned from the training data by minimizing the \"cross-entropy\" **cost function**:\n",
    "\n",
    "$$ J(\\theta) \n",
    "    = -\\frac{1}{m} \\sum_{i=1}^m \n",
    "    \\left[\n",
    "    y^{(i)} \\; \\log g(\\theta^T x^{(i)}) \n",
    "    + (1 - y^{(i)}) \\; \\log (1 - g(\\theta^T x^{(i)}))\n",
    "    \\right]\n",
    "    + \\frac{\\lambda}{2m} \\parallel \\theta \\,\\parallel^2\n",
    "$$\n",
    "\n",
    "$$z = \\theta^T x \\quad\\in [-\\infty..\\infty]$$\n",
    "\n",
    "$$g(z) \\quad\\in [0..1]$$\n",
    "\n",
    "- If $y=1$, $\\quad J(\\theta) \\to 0\\quad $   when   $\\quad \\theta^T x \\to +\\infty$\n",
    "\n",
    "- If $y=0$, $\\quad J(\\theta) \\to 0\\quad $   when   $\\quad \\theta^T x \\to -\\infty$\n",
    "\n",
    "Ignoring the regularization term \n",
    "$\\frac{\\lambda}{2m} \\parallel \\theta \\,\\parallel^2$, \n",
    "the optimization finds a $\\theta$ so that:\n",
    "\n",
    "- $\\theta^T x \\gg 0$ for \"most\" positive samples ($y=1$)\n",
    "- $\\theta^T x \\ll 0$ for \"most\" negative samples ($y=0$).\n",
    "\n",
    "The hyper-plane $\\theta^T x =0$ is the **decision boundary**. The \"most\" becomes \"all\" sample when the samples are linearly separable.\n",
    "\n",
    "The regularization term $\\frac{\\lambda}{2m} \\parallel \\theta \\,\\parallel^2$\n",
    "penalizes large $\\theta$.\n",
    "\n",
    "> **NOTE**: The LR cost function is the negative log-likelihood\n",
    "> and achieves maximum likelihood estimations. \n",
    "> Its origin is probabilistic, not geometric.\n",
    "\n",
    "### Geometrical view\n",
    "\n",
    "The optimization orients the decision boundary hyper-plane\n",
    "to \"optimally\" separate the two classes.\n",
    "\n",
    "### Considerations\n",
    "\n",
    "1. When classes are linearly separable, $\\theta$ defines a boundary with no error on the training set. Yet, the cost of a sample, even if correctly classified, keeps decreasing as $\\theta^T x \\to \\infty$.  So, in LR with\n",
    "separable classes and no regularization, would $\\theta$ tend to diverge?\n",
    "\n"
   ]
  },
  {
   "cell_type": "markdown",
   "metadata": {},
   "source": [
    "# SVM\n",
    "\n",
    "## Prediction\n",
    "\n",
    "Similarly to logistic regression, a trained linear-SVM model will predict:\n",
    "\n",
    "- $y=1\\quad$ when $\\quad \\theta^T x \\ge 0$\n",
    "- $y=0\\quad$ when $\\quad \\theta^T x < 0$\n",
    "\n",
    "The decision boundary is the hyperplane defined by $\\theta^T x = 0$.\n",
    "\n",
    "### Geometrical interpretation\n",
    "\n",
    "Geometrically, the inner product $\\theta^T x$ is the \"signed\" projection of $x$ into $\\theta$ (or vice versa):\n",
    "\n",
    "$$\\theta^T x = p \\parallel \\theta \\parallel$$\n",
    "\n",
    "where $p$ is the projection of $x$ into $\\theta$ ($p \\in \\mathbb{R}$ is signed). A line orthogonal to $\\theta$ defines \n",
    "two \"semi-planes\". If $x$ lies in the semi-plane which contains $\\theta$ then $y=1$,\n",
    "if $x$ lies in the other semi-plane $y=0$. $p$ is the distance of $x$ from the line.\n",
    "\n",
    "In high dimension, the hyperplane orthogonal to $\\theta$ divides $\\mathbb{R}^n$ in two\n",
    "**semi-spaces**\n",
    ". If $x$ lies in the semi-space which contains $\\theta$ then $y=1$,\n",
    "if $x$ lies in the other semi-space $y=0$.\n",
    "\n",
    "$\\theta^T x = 0$ is the equation of the decision boundary hyperplane,\n",
    "while $\\theta^T x$ is the distance $p$ of $x$ from the hyper-plane, times $\\parallel \\theta \\parallel$. So, for a given sample $x$, the distance from the decision boundary is:\n",
    "\n",
    "$$p = \\frac{\\theta^T x}{\\parallel \\theta \\parallel}$$\n",
    "\n",
    "The minimum distance of all samples from the decision boundary is called the margin $M$. In 2D, there are only 3 samples that have the minimal distance $M$ and these are called **support vectors**. "
   ]
  },
  {
   "cell_type": "markdown",
   "metadata": {},
   "source": [
    "## Optimization\n",
    "\n",
    "The difference from logistic regression is in how $\\theta$ is learned from the data. In SVM, the optimization is trying not only to find an hyper-plane\n",
    "to separate the samples, but also to maximize the margin $M$: the minimum distance of all sample from the hyperplane.\n",
    "\n",
    "> SVM: finds the largest \"road\" separating the two classes\n",
    "\n",
    "The cost function is:\n",
    "\n",
    "$$ J(\\theta) \n",
    "    = C \\sum_{i=1}^m \n",
    "    \\left[y^{(i)} \\; cost_1(\\theta^T x^{(i)}) + (1 - y^{(i)}) \\; cost_0(\\theta^T x^{(i)}))\\right] \n",
    "    + \\frac{1}{2} \\parallel \\theta \\,\\parallel^2\n",
    "$$\n",
    "\n",
    "where \n",
    "\n",
    "- $cost_1(z)$ ` = np.maximum(-z+1, 0)`  replaces $\\log g(z)\\quad$ (when $y=1$) \n",
    "- $cost_0(z)$ ` = np.maximum(z+1, 0)`  replaces $\\log (1 - g(z))\\quad$ (when $y=0$).\n",
    "\n",
    "$cost_1(z)$ and $cost_0(z)$ are plotted below."
   ]
  },
  {
   "cell_type": "markdown",
   "metadata": {},
   "source": [
    "While logistic regression cost function is motivated by probabilistic considerations, the SVM cost function is motivate by geometrical considerations.\n",
    "\n",
    "For start, only samples with $-1 \\le \\theta^T x \\le 1$ \n",
    "determine $J(\\theta)$. $-1 \\le \\theta^T x \\le 1$ define a \"slab\" in the feature space: samples lying outside the \"slab\" give 0 contribution to $J$. The hyper-plane $\\theta^T x = 1$ is the margin for $y=1$ and $\\theta^T x = -1$ is the margin for $y=0$.\n",
    "The \"regularization\" term tends to reduce $\\parallel \\theta \\,\\parallel$,\n",
    "and thus to increase the margin.\n",
    "\n",
    "When the classes are separable, all samples contribute 0 to the cost, $C$ has no effect and the cost is inversely proportional \n",
    "to the margin. Therefore, SVM finds the largest margin between the classes.\n",
    "\n",
    "When the classes are not separable, each **margin violation** will increase the cost (proportionally to the distance from the margin). All the violations are scaled by $C$. So, now, $C$ controls the trade off between\n",
    "margin ($\\parallel \\theta \\,\\parallel^{-1}$) and number and severity of violations.\n",
    "\n",
    "- **Large** $C$, high violation penalty, reduces margin to avoid violations, few samples contribute to cost, higher variance, tends to **overfit**\n",
    "- **Small** $C$, low violation penalty, increases margin tolerating more violations, more samples contribute to cost, low variance, tends to **underfit**"
   ]
  },
  {
   "cell_type": "code",
   "execution_count": 26,
   "metadata": {},
   "outputs": [
    {
     "data": {
      "image/png": "[encoded data removed]",
      "text/plain": [
       "<Figure size 432x288 with 1 Axes>"
      ]
     },
     "metadata": {},
     "output_type": "display_data"
    },
    {
     "data": {
      "image/png": "[encoded data removed]",
      "text/plain": [
       "<Figure size 432x288 with 1 Axes>"
      ]
     },
     "metadata": {},
     "output_type": "display_data"
    }
   ],
   "source": [
    "z = np.arange(-4, 4, 0.2)\n",
    "def sigmoid(z):\n",
    "    return 1 / (1 + np.exp(-z))\n",
    "\n",
    "plt.plot(z, -np.log(sigmoid(z)), label='-log g(z)')\n",
    "plt.plot(z[z<1], -z[z<1], '--', color='C0', label='-z')\n",
    "\n",
    "plt.plot(z, np.maximum(-z+1, 0), label='cost₁(z)')\n",
    "plt.legend()\n",
    "plt.grid();\n",
    "\n",
    "plt.figure()\n",
    "plt.plot(z, -np.log(1 - sigmoid(z)), label='-log (1 - g(z))')\n",
    "plt.plot(z[z>-1], z[z>-1], '--', color='C0', label='z')\n",
    "\n",
    "plt.plot(z, np.maximum(z+1, 0), label='cost₀(z)')\n",
    "plt.legend()\n",
    "plt.grid();\n",
    "\n"
   ]
  },
  {
   "cell_type": "code",
   "execution_count": null,
   "metadata": {},
   "outputs": [],
   "source": []
  }
 ],
 "metadata": {
  "kernelspec": {
   "display_name": "Python 3.6 (py36)",
   "language": "python",
   "name": "py36"
  },
  "language_info": {
   "codemirror_mode": {
    "name": "ipython",
    "version": 3
   },
   "file_extension": ".py",
   "mimetype": "text/x-python",
   "name": "python",
   "nbconvert_exporter": "python",
   "pygments_lexer": "ipython3",
   "version": "3.6.7"
  },
  "toc": {
   "base_numbering": 1,
   "nav_menu": {},
   "number_sections": false,
   "sideBar": true,
   "skip_h1_title": false,
   "title_cell": "Table of Contents",
   "title_sidebar": "Contents",
   "toc_cell": false,
   "toc_position": {},
   "toc_section_display": "block",
   "toc_window_display": true
  }
 },
 "nbformat": 4,
 "nbformat_minor": 2
}
