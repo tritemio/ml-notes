{
 "cells": [
  {
   "cell_type": "code",
   "execution_count": 1,
   "metadata": {},
   "outputs": [],
   "source": [
    "import numpy as np\n",
    "import seaborn as sns\n",
    "import pandas as pd\n",
    "import matplotlib.pyplot as plt\n",
    "%matplotlib inline"
   ]
  },
  {
   "cell_type": "markdown",
   "metadata": {},
   "source": [
    "# Logistic Regression\n",
    "\n",
    "In a logistic regression with $n$ features and $m$ training samples,\n",
    "we want to predict a binary output variable $y$ which has 0 or 1 values.\n",
    "\n",
    "## Hypostesis representation\n",
    "Specifically, we want to predict the probability of a samples to yield\n",
    "0 or 1 output.\n",
    "\n",
    "The features are usually real numbers, so we need a link between real\n",
    "numbers to a `[0..1]` range expressing the probability of the output.\n",
    "In logistic regression this link is provided by the **logistic function**:\n",
    "\n",
    "$$\\textrm{logistic function:}\\quad g(z) = \\frac{1}{1 + e^{-z}}$$\n",
    "\n",
    "In this context, the hypothesis is:\n",
    "\n",
    "$$h_\\theta(x) = g(\\theta^T x)$$\n",
    "\n",
    "representing the probability that, with a given parameter vector $\\theta$,\n",
    "a sample $x$ yields $y = 1$. In equations:\n",
    "\n",
    "$$P(y = 1|\\theta, x) = h_\\theta(x) = g(\\theta^T x)$$\n",
    "\n",
    "Equivalent expressions:\n",
    "\n",
    "$$P(y = 1|\\theta, x) = \\frac{e^{\\theta^T x}}{1 + e^{\\theta^T x}}$$\n",
    "$$P(y = 0|\\theta, x) = \\frac{1}{1 + e^{\\theta^T x}}$$\n",
    "\n",
    "The ratio is called *odds*, and taking the log we obtain the *log-odds*:\n",
    "\n",
    "$$\\log \\frac{P(y = 1|\\theta, x)}{P(y = 0|\\theta, x)} = \\theta^T x$$\n",
    "\n",
    "The previous function is the inverse of the logistic function is called the **logit function** (or *log of odds* function):\n",
    "\n",
    "$$\\textrm{logit function:}\\quad g^{-1}(z) = \\log{\\frac{p}{1-p}}$$\n"
   ]
  },
  {
   "cell_type": "markdown",
   "metadata": {},
   "source": [
    "## Decision boundary\n",
    "\n",
    "To convert probability to a discrete output (0 or 1) we need to set a threshold. Typically we predict:\n",
    "\n",
    "$$ y = 1\\quad \\textrm{if} \\quad h_\\theta(x) \\ge 0.5 $$\n",
    "\n",
    "$$ y = 0\\quad \\textrm{if} \\quad h_\\theta(x) < 0.5 $$\n",
    "\n",
    "The locus of points in the **sample space** where $h_\\theta(x) = 0.5$ is the **decision boundary** for a given \"optima $\\theta$\". Given the shape of $g(z)$, the decision boundary is given by the $x$ satisfying the equation:\n",
    "\n",
    "$$\\theta^T x = 0$$\n",
    "\n",
    "So, with $n$ features, the decision boundary is an hyper-plane of dimension $n-1$.\n",
    "\n",
    "Like for polynomial regression, we can add features\n",
    "by adding powers of pre-existing features. For example with 1 feature,\n",
    "and adding the 2-power, the decision boundary becomes:\n",
    "\n",
    "$$\\theta_0 + \\theta_1 x_1 + \\theta_2 x_1^2 =0$$\n",
    "\n",
    "Here, the decision boundary is a range instead of a point.\n",
    "With 2 features, adding powers of 2 we obtain:\n",
    "\n",
    "$$\\theta_0 + \\theta_1 x_1 + \\theta_2 x_2 + \\theta_3 x_1^2 + \\theta_4 x_2^2  =0$$\n",
    "\n",
    "which is the equation of an ellipsis. In general, adding higher powers and\n",
    "cross-products we can obtain complex surfaces as decision boundaries.\n",
    "However, the problem to keep in mind is that often, adding polynomial features leads to overfitting.\n",
    "\n"
   ]
  },
  {
   "cell_type": "markdown",
   "metadata": {},
   "source": [
    "## Cost function\n",
    "\n",
    "In the previous sections we specified a model able \n",
    "to predict probabilities ($h_\\theta(x)$) \n",
    "and to assign classes (via decision boundary).\n",
    "Now we tackle the problem on finding the \"optimal\" $\\theta$\n",
    "given a training set $X$.\n",
    "\n",
    "We need to define a cost function $J(\\theta)$ to be minimized.\n",
    "\n",
    "$$J(\\theta) = \\frac{1}{m} \n",
    "\\sum_{i=1}^m \\textrm{Cost}(h_\\theta(x^{(i)}), y^{(i)})$$\n",
    "\n",
    "In logistic regression, remembering that $y$ is either 0 or 1 \n",
    "and $h_\\theta(x)$ has values in $[0..1]$, we define:\n",
    "\n",
    "\\begin{align}\n",
    "\\textrm{Cost}(h_\\theta(x), y) = &- y \\; \\log h_\\theta(x) \\\\\n",
    "                                &- (1 - y) \\; \\log (1 - h_\\theta(x))\n",
    "\\end{align}\n",
    "\n",
    "Intuitively minimizing this function \"works\", because that it penalizes\n",
    "$\\theta$ which yield $h_\\theta(x)$ far from the true class.\n",
    "Theoretically, this cost function comes from finding the maximum likelihood of a Bernoulli random variable.\n",
    "\n",
    "Rewriting $J(\\theta)$ we obtain:\n",
    "\n",
    "\\begin{align}\n",
    "J(\\theta) \n",
    "    &= -\\frac{1}{m} \\sum_{i=1}^m \n",
    "    \\left[y^{(i)} \\; \\log h_\\theta(x^{(i)}) + (1 - y^{(i)}) \\; \\log (1 - h_\\theta(x^{(i)}))\\right] \\\\\n",
    "    &= -\\frac{1}{m} \\sum_{i=1}^m \n",
    "    \\left[y^{(i)} \\theta^T x^{(i)} - \\log(\\exp(\\theta^T x^{(i)}) + 1)\n",
    "    \\right] \\\\  \n",
    "\\end{align}\n",
    "\n",
    "In vectorized form:\n",
    "\n",
    "$$h_\\theta(X) = g(X\\,\\theta)$$\n",
    "\n",
    "\\begin{align}\n",
    "J(\\theta) \n",
    "&=  - \\frac{1}{m} \\left[ y^T \\log g(X\\,\\theta) \n",
    "    + (1 - y^T) \\log (1 - g(X\\,\\theta)) \\right] \\\\\n",
    "&=  - \\frac{1}{m} \\left[ y^T \\, X \\, \\theta + \\log (\\exp(X \\, \\theta) + 1) \\right]\n",
    "\\end{align}"
   ]
  },
  {
   "cell_type": "markdown",
   "metadata": {},
   "source": [
    "### Notes:\n",
    "\n",
    "- The cost function in logistic regression is convex: http://mathgotchas.blogspot.com/2011/10/why-is-error-function-minimized-in.html\n",
    "\n",
    "### Passages\n",
    "\n",
    "$$ y \\, \\log g(X\\theta) = y \\, X\\theta - y \\, \\log(\\exp(X\\theta) + 1)$$\n",
    "\n",
    "$$(1 - y) \\, \\log (1 - g(X\\theta)) = - (1 - y) \\, \\log(\\exp(X\\theta) + 1)$$"
   ]
  },
  {
   "cell_type": "markdown",
   "metadata": {},
   "source": [
    "## Gradient Descent: update formula\n",
    "\n",
    "As for linear regression, in gradient descent, at each iteration, we update $\\theta$ according to:\n",
    "\n",
    "$$\\theta_j := \\theta_j - \\alpha \\frac{\\partial}{\\partial \\theta_j} J(\\theta)$$\n",
    "\n",
    "for all $j$ at the same time. We repeat until we converge or we reach\n",
    "the max allowed iterations.\n",
    "\n",
    "Computing the partial derivative of $J(\\theta)$ (passages not shown),\n",
    "we obtain the same formal expression as for linear regression:\n",
    "\n",
    "$$ \\frac{\\partial}{\\partial \\theta_j} J(\\theta) = \n",
    "\\frac{1}{m} \\sum_{i=1}^m \\left( h_\\theta(x^{(i)}) - y^{(i)} \\right)\\, x_j^{(i)}$$\n",
    "\n",
    "With substitutions for logistic regression, we obtain:\n",
    "\n",
    "\\begin{align}\n",
    "\\frac{\\partial}{\\partial \\theta_j} J(\\theta) \n",
    "&= \\frac{1}{m} \\sum_{i=1}^m \\left( g(\\theta^T x^{(i)}) - y^{(i)} \\right)\\, x_j^{(i)} \\\\\n",
    "\\nabla J(\\theta) &= \\frac{1}{m} X^T \\left( g(X\\theta) - y \\right)\n",
    "\\end{align}\n",
    "\n",
    "So, the vectorial update formula becomes:\n",
    "\n",
    "$$\\theta := \\theta - \\frac{\\alpha}{m} X^T \\left( g(X\\theta) - y \\right)$$\n",
    "\n"
   ]
  },
  {
   "cell_type": "markdown",
   "metadata": {},
   "source": [
    "## logistic and logit\n",
    "\n",
    "The inverse of the logistic function is the **logit function** (or *log of odds* function):\n",
    "\n",
    "$$\\textrm{logit function:}\\quad g^{-1}(z) = \\log{\\frac{p}{1-p}}$$\n"
   ]
  },
  {
   "cell_type": "markdown",
   "metadata": {},
   "source": [
    "## Regularization\n",
    "\n",
    "Regularization is a modification to the cost function that helps fighting overfitting.\n",
    "In particular we penalize high values of parameters, introducing a \"shrinkage\"\n",
    "term which makes parameters close to the origin preferable.\n",
    "\n",
    "### Ridge regularization\n",
    "\n",
    "The regularized cost function is:\n",
    "\n",
    "$$J_r(\\theta) = J(\\theta) + \\frac{\\lambda}{2 m} \\, \\|\\theta\\|^2 \n",
    "\\quad \\textrm{the norm excludes }\\theta_0$$\n",
    "\n",
    "The regularized gradient descent step is:\n",
    "\n",
    "$$\\theta_j := \\theta_j - \\alpha \\left[ \\frac{\\partial}{\\partial \\theta_j} J(\\theta) \n",
    "+ \\frac{\\lambda}{m} \\theta_j\\right]\n",
    "= \\theta_j\\left(1 - \\alpha \\frac{\\lambda}{m} \\right) - \\alpha \\frac{\\partial}{\\partial \\theta_j} J(\\theta)$$\n",
    "\n",
    "for $j = [1..n]$ (the update formula for $\\theta_0$ remains unmmodified)."
   ]
  },
  {
   "cell_type": "markdown",
   "metadata": {},
   "source": [
    "# Load Data\n",
    "\n",
    "Load data in a nicely formatted DataFrame:"
   ]
  },
  {
   "cell_type": "code",
   "execution_count": 4,
   "metadata": {},
   "outputs": [
    {
     "data": {
      "text/html": [
       "<div>\n",
       "<style scoped>\n",
       "    .dataframe tbody tr th:only-of-type {\n",
       "        vertical-align: middle;\n",
       "    }\n",
       "\n",
       "    .dataframe tbody tr th {\n",
       "        vertical-align: top;\n",
       "    }\n",
       "\n",
       "    .dataframe thead th {\n",
       "        text-align: right;\n",
       "    }\n",
       "</style>\n",
       "<table border=\"1\" class=\"dataframe\">\n",
       "  <thead>\n",
       "    <tr style=\"text-align: right;\">\n",
       "      <th>feature</th>\n",
       "      <th>test1</th>\n",
       "      <th>test2</th>\n",
       "      <th>broken</th>\n",
       "    </tr>\n",
       "    <tr>\n",
       "      <th>sample</th>\n",
       "      <th></th>\n",
       "      <th></th>\n",
       "      <th></th>\n",
       "    </tr>\n",
       "  </thead>\n",
       "  <tbody>\n",
       "    <tr>\n",
       "      <th>0</th>\n",
       "      <td>0.051267</td>\n",
       "      <td>0.69956</td>\n",
       "      <td>True</td>\n",
       "    </tr>\n",
       "    <tr>\n",
       "      <th>1</th>\n",
       "      <td>-0.092742</td>\n",
       "      <td>0.68494</td>\n",
       "      <td>True</td>\n",
       "    </tr>\n",
       "    <tr>\n",
       "      <th>2</th>\n",
       "      <td>-0.213710</td>\n",
       "      <td>0.69225</td>\n",
       "      <td>True</td>\n",
       "    </tr>\n",
       "    <tr>\n",
       "      <th>3</th>\n",
       "      <td>-0.375000</td>\n",
       "      <td>0.50219</td>\n",
       "      <td>True</td>\n",
       "    </tr>\n",
       "    <tr>\n",
       "      <th>4</th>\n",
       "      <td>-0.513250</td>\n",
       "      <td>0.46564</td>\n",
       "      <td>True</td>\n",
       "    </tr>\n",
       "  </tbody>\n",
       "</table>\n",
       "</div>"
      ],
      "text/plain": [
       "feature     test1    test2  broken\n",
       "sample                            \n",
       "0        0.051267  0.69956    True\n",
       "1       -0.092742  0.68494    True\n",
       "2       -0.213710  0.69225    True\n",
       "3       -0.375000  0.50219    True\n",
       "4       -0.513250  0.46564    True"
      ]
     },
     "execution_count": 4,
     "metadata": {},
     "output_type": "execute_result"
    }
   ],
   "source": [
    "df = (pd.read_csv('machine-learning-ex2/ex2/ex2data2.txt', header=None)\n",
    "      .rename(columns={0: 'test1', 1: 'test2', 2: 'broken'})\n",
    "      .rename_axis('sample', axis='index')\n",
    "      .rename_axis('feature', axis='columns')\n",
    "      .assign(broken=lambda x: x.broken.astype(bool))\n",
    "     )\n",
    "df_orig = df.copy()\n",
    "df.head()"
   ]
  },
  {
   "cell_type": "code",
   "execution_count": 5,
   "metadata": {},
   "outputs": [
    {
     "data": {
      "text/plain": [
       "feature\n",
       "test1     float64\n",
       "test2     float64\n",
       "broken       bool\n",
       "dtype: object"
      ]
     },
     "execution_count": 5,
     "metadata": {},
     "output_type": "execute_result"
    }
   ],
   "source": [
    "df.dtypes"
   ]
  },
  {
   "cell_type": "code",
   "execution_count": 7,
   "metadata": {},
   "outputs": [
    {
     "data": {
      "text/html": [
       "<div>\n",
       "<style scoped>\n",
       "    .dataframe tbody tr th:only-of-type {\n",
       "        vertical-align: middle;\n",
       "    }\n",
       "\n",
       "    .dataframe tbody tr th {\n",
       "        vertical-align: top;\n",
       "    }\n",
       "\n",
       "    .dataframe thead th {\n",
       "        text-align: right;\n",
       "    }\n",
       "</style>\n",
       "<table border=\"1\" class=\"dataframe\">\n",
       "  <thead>\n",
       "    <tr style=\"text-align: right;\">\n",
       "      <th></th>\n",
       "      <th>broken</th>\n",
       "      <th>feature</th>\n",
       "      <th>value</th>\n",
       "    </tr>\n",
       "  </thead>\n",
       "  <tbody>\n",
       "    <tr>\n",
       "      <th>168</th>\n",
       "      <td>True</td>\n",
       "      <td>test2</td>\n",
       "      <td>0.57529</td>\n",
       "    </tr>\n",
       "    <tr>\n",
       "      <th>47</th>\n",
       "      <td>True</td>\n",
       "      <td>test1</td>\n",
       "      <td>0.22408</td>\n",
       "    </tr>\n",
       "    <tr>\n",
       "      <th>181</th>\n",
       "      <td>False</td>\n",
       "      <td>test2</td>\n",
       "      <td>0.59722</td>\n",
       "    </tr>\n",
       "    <tr>\n",
       "      <th>131</th>\n",
       "      <td>True</td>\n",
       "      <td>test2</td>\n",
       "      <td>-0.18494</td>\n",
       "    </tr>\n",
       "    <tr>\n",
       "      <th>65</th>\n",
       "      <td>False</td>\n",
       "      <td>test1</td>\n",
       "      <td>0.92684</td>\n",
       "    </tr>\n",
       "  </tbody>\n",
       "</table>\n",
       "</div>"
      ],
      "text/plain": [
       "     broken feature    value\n",
       "168    True   test2  0.57529\n",
       "47     True   test1  0.22408\n",
       "181   False   test2  0.59722\n",
       "131    True   test2 -0.18494\n",
       "65    False   test1  0.92684"
      ]
     },
     "execution_count": 7,
     "metadata": {},
     "output_type": "execute_result"
    }
   ],
   "source": [
    "df_tidy = df.melt(id_vars='broken')\n",
    "df_tidy.sample(5)"
   ]
  },
  {
   "cell_type": "markdown",
   "metadata": {},
   "source": [
    "# Explore data\n"
   ]
  },
  {
   "cell_type": "markdown",
   "metadata": {},
   "source": [
    "## Features vs target"
   ]
  },
  {
   "cell_type": "code",
   "execution_count": 8,
   "metadata": {},
   "outputs": [
    {
     "data": {
      "image/png": "[encoded data removed]",
      "text/plain": [
       "<Figure size 432x216 with 2 Axes>"
      ]
     },
     "metadata": {},
     "output_type": "display_data"
    }
   ],
   "source": [
    "g = sns.FacetGrid(df_tidy, col=\"feature\", sharex=False)\n",
    "g.map(plt.scatter, \"value\", \"broken\");"
   ]
  },
  {
   "cell_type": "markdown",
   "metadata": {},
   "source": [
    "## Pairplot of all features and output variable"
   ]
  },
  {
   "cell_type": "code",
   "execution_count": 9,
   "metadata": {},
   "outputs": [
    {
     "data": {
      "image/png": "[encoded data removed]",
      "text/plain": [
       "<Figure size 350.125x288 with 1 Axes>"
      ]
     },
     "metadata": {},
     "output_type": "display_data"
    }
   ],
   "source": [
    "sns.pairplot(df, hue='broken', x_vars=['test1'], y_vars=['test2'], size=4);"
   ]
  },
  {
   "cell_type": "markdown",
   "metadata": {},
   "source": [
    "# Data for logistic regression"
   ]
  },
  {
   "cell_type": "markdown",
   "metadata": {},
   "source": [
    "It is nice to have DataFrames, but for the underlying number crunching we use numpy.\n",
    "Here we get the variables we need for linear regression as numpy arrays:"
   ]
  },
  {
   "cell_type": "code",
   "execution_count": 10,
   "metadata": {},
   "outputs": [
    {
     "data": {
      "text/plain": [
       "2"
      ]
     },
     "execution_count": 10,
     "metadata": {},
     "output_type": "execute_result"
    }
   ],
   "source": [
    "X = df[['test1', 'test2']].values  # features for each sample\n",
    "y = df['broken'].values          # target to be predicted\n",
    "n = X.shape[1]                     # number of features\n",
    "n"
   ]
  },
  {
   "cell_type": "code",
   "execution_count": 11,
   "metadata": {},
   "outputs": [
    {
     "data": {
      "text/plain": [
       "(118, 2)"
      ]
     },
     "execution_count": 11,
     "metadata": {},
     "output_type": "execute_result"
    }
   ],
   "source": [
    "X.shape"
   ]
  },
  {
   "cell_type": "markdown",
   "metadata": {},
   "source": [
    "## Scikit-learn\n",
    "\n",
    "Scikit-learn only provides \n",
    "[regularized logistic regression](http://scikit-learn.org/stable/modules/generated/sklearn.linear_model.LogisticRegression.html).\n",
    "For this exercise, we make it un-regularized by setting \n",
    "`C` to an high value ($C^{-1} = \\lambda$ the regularization strength).\n",
    "\n",
    "`LogisticRegression` can also fit the intercept without the need of adding\n",
    "the 1-column dummy feature."
   ]
  },
  {
   "cell_type": "code",
   "execution_count": 13,
   "metadata": {},
   "outputs": [],
   "source": [
    "from sklearn.linear_model import LogisticRegression\n",
    "from sklearn.preprocessing import PolynomialFeatures"
   ]
  },
  {
   "cell_type": "code",
   "execution_count": 25,
   "metadata": {},
   "outputs": [
    {
     "data": {
      "text/plain": [
       "(118, 28)"
      ]
     },
     "execution_count": 25,
     "metadata": {},
     "output_type": "execute_result"
    }
   ],
   "source": [
    "pol_trans = PolynomialFeatures(6).fit(X)\n",
    "Xp = pol_trans.transform(X)\n",
    "Xp.shape"
   ]
  },
  {
   "cell_type": "code",
   "execution_count": 33,
   "metadata": {},
   "outputs": [
    {
     "data": {
      "text/plain": [
       "LogisticRegression(C=1, class_weight=None, dual=False, fit_intercept=True,\n",
       "          intercept_scaling=1, max_iter=100, multi_class='ovr', n_jobs=1,\n",
       "          penalty='l2', random_state=None, solver='lbfgs', tol=0.0001,\n",
       "          verbose=0, warm_start=False)"
      ]
     },
     "execution_count": 33,
     "metadata": {},
     "output_type": "execute_result"
    }
   ],
   "source": [
    "model = LogisticRegression(C=1, solver='lbfgs')\n",
    "model.fit(Xp, y)"
   ]
  },
  {
   "cell_type": "code",
   "execution_count": 34,
   "metadata": {},
   "outputs": [
    {
     "data": {
      "text/plain": [
       "(array([[-9.40316896e-05,  6.25200403e-01,  1.18110372e+00,\n",
       "         -2.01998737e+00, -9.17422545e-01, -1.43161951e+00,\n",
       "          1.24007673e-01, -3.65545995e-01, -3.57235803e-01,\n",
       "         -1.75177398e-01, -1.45813451e+00, -5.09079430e-02,\n",
       "         -6.15531333e-01, -2.74684592e-01, -1.19285084e+00,\n",
       "         -2.42159297e-01, -2.06009268e-01, -4.46834189e-02,\n",
       "         -2.77786348e-01, -2.95378201e-01, -4.56358841e-01,\n",
       "         -1.04313960e+00,  2.78215032e-02, -2.92419721e-01,\n",
       "          1.56135368e-02, -3.27375607e-01, -1.43860298e-01,\n",
       "         -9.24641743e-01]]), array([1.27281727]))"
      ]
     },
     "execution_count": 34,
     "metadata": {},
     "output_type": "execute_result"
    }
   ],
   "source": [
    "model.coef_, model.intercept_"
   ]
  },
  {
   "cell_type": "code",
   "execution_count": 35,
   "metadata": {},
   "outputs": [],
   "source": [
    "XX1, XX2 = np.meshgrid(np.arange(-1, 1, 0.02), \n",
    "                       np.arange(-1, 1, 0.02))"
   ]
  },
  {
   "cell_type": "code",
   "execution_count": 36,
   "metadata": {},
   "outputs": [
    {
     "data": {
      "text/plain": [
       "(10000, 2)"
      ]
     },
     "execution_count": 36,
     "metadata": {},
     "output_type": "execute_result"
    }
   ],
   "source": [
    "XX = np.vstack([XX1.ravel(), XX2.ravel()]).T\n",
    "XX.shape"
   ]
  },
  {
   "cell_type": "code",
   "execution_count": 37,
   "metadata": {},
   "outputs": [],
   "source": [
    "XXp = pol_trans.transform(XX)\n",
    "YY = model.predict(XXp).reshape(XX1.shape)"
   ]
  },
  {
   "cell_type": "code",
   "execution_count": 38,
   "metadata": {},
   "outputs": [
    {
     "data": {
      "image/png": "[encoded data removed]",
      "text/plain": [
       "<Figure size 324x324 with 1 Axes>"
      ]
     },
     "metadata": {},
     "output_type": "display_data"
    }
   ],
   "source": [
    "plt.figure(figsize=(4.5, 4.5))\n",
    "plt.contour(XX1, XX2, YY, alpha=0.2)\n",
    "plt.plot(X[~y, 0], X[~y, 1], 'o')\n",
    "plt.plot(X[y, 0], X[y, 1], 's')\n",
    "plt.xlabel('exam1'); plt.ylabel('exam2');"
   ]
  },
  {
   "cell_type": "code",
   "execution_count": null,
   "metadata": {},
   "outputs": [],
   "source": []
  }
 ],
 "metadata": {
  "kernelspec": {
   "display_name": "Python 3.6 (py36)",
   "language": "python",
   "name": "py36"
  },
  "language_info": {
   "codemirror_mode": {
    "name": "ipython",
    "version": 3
   },
   "file_extension": ".py",
   "mimetype": "text/x-python",
   "name": "python",
   "nbconvert_exporter": "python",
   "pygments_lexer": "ipython3",
   "version": "3.6.7"
  },
  "toc": {
   "nav_menu": {},
   "number_sections": false,
   "sideBar": true,
   "skip_h1_title": false,
   "toc_cell": false,
   "toc_position": {
    "height": "557.867px",
    "left": "0px",
    "right": "1004px",
    "top": "111.133px",
    "width": "212px"
   },
   "toc_section_display": "block",
   "toc_window_display": true
  }
 },
 "nbformat": 4,
 "nbformat_minor": 2
}
